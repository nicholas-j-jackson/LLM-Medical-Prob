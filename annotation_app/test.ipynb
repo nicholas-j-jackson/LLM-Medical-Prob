{
 "cells": [
  {
   "cell_type": "code",
   "execution_count": 4,
   "id": "736ab928",
   "metadata": {},
   "outputs": [
    {
     "data": {
      "text/plain": [
       "Prob_Included_Human\n",
       "False    75\n",
       "True     25\n",
       "Name: count, dtype: int64"
      ]
     },
     "execution_count": 4,
     "metadata": {},
     "output_type": "execute_result"
    }
   ],
   "source": [
    "import pandas as pd\n",
    "pd.read_csv('annotation.csv')['Prob_Included_Human'].value_counts()"
   ]
  },
  {
   "cell_type": "code",
   "execution_count": null,
   "id": "ca81e028",
   "metadata": {},
   "outputs": [],
   "source": []
  }
 ],
 "metadata": {
  "kernelspec": {
   "display_name": "base",
   "language": "python",
   "name": "python3"
  },
  "language_info": {
   "codemirror_mode": {
    "name": "ipython",
    "version": 3
   },
   "file_extension": ".py",
   "mimetype": "text/x-python",
   "name": "python",
   "nbconvert_exporter": "python",
   "pygments_lexer": "ipython3",
   "version": "3.12.3"
  }
 },
 "nbformat": 4,
 "nbformat_minor": 5
}
